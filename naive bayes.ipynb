import pandas as pd
from sklearn.model_selection import train_test_split
from sklearn.ensemble import RandomForestClassifier
from sklearn.neighbors import KNeighborsClassifier
from sklearn.naive_bayes import GaussianNB
from sklearn.preprocessing import StandardScaler
from sklearn.metrics import accuracy_score
from pydrive.auth import GoogleAuth
from pydrive.drive import GoogleDrive
from google.colab import auth
from oauth2client.client import GoogleCredentials
auth.authenticate_user()
gauth = GoogleAuth()
gauth.credentials = GoogleCredentials.get_application_default()
drive = GoogleDrive(gauth)
print(gauth.credentials)
downloaded = drive.CreateFile({'id':'1t0mQEHSyrCTN7UEWfJ_9Dodo4L9P7aXI'}) # replace the id with id of file you want to access
downloaded.GetContentFile('Ap_Agriculture.csv')
downloaded = drive.CreateFile({'id':'1sPmFJKnY7ITuCjJIwrDNmn76rx2ZHCMc'}) # replace the id with id of file you want to access
downloaded.GetContentFile('Crop_recommendation.csv')
import pandas as pd
from sklearn.model_selection import train_test_split
from sklearn.ensemble import RandomForestClassifier
from sklearn.neighbors import KNeighborsClassifier
from sklearn.naive_bayes import GaussianNB
from sklearn.preprocessing import StandardScaler
from sklearn.metrics import accuracy_score, precision_score, f1_score # Import precision_score and f1_score
from sklearn.naive_bayes import MultinomialNB

# Load datasets
indian_agriculture = pd.read_csv('Ap_Agriculture.csv')
crop_recommendation = pd.read_csv('Crop_recommendation.csv', encoding='latin-1')

# Clean and standardize the 'Crop' column in both datasets
indian_agriculture['Crop'] = indian_agriculture['Crop'].str.strip().str.lower()
crop_recommendation['Crop'] = crop_recommendation['Crop'].str.strip().str.lower()

# Merge datasets based on 'Crop' (and other common columns if needed)
merged_data = pd.merge(indian_agriculture, crop_recommendation, on='Crop', how='inner')

# Drop rows with missing values
merged_data.dropna(inplace=True)
# Extract features and target variable for crop prediction
classification_features = ['Nitrogen', 'phosphorus', 'potassium', 'temperature', 'humidity', 'ph', 'rainfall']
classification_target = 'Crop'

# Extract features and target variable for yield prediction
regression_features = classification_features + ['Area']  # Include 'Area' for yield prediction
regression_target = 'Production'

# Split data into features and target variables
X_classification = merged_data[classification_features]
y_classification = merged_data[classification_target]

# Split data into features and target variables
X_regression = merged_data[regression_features]
y_regression = merged_data[regression_target]

# Split data into train and test sets for classification (crop prediction)
X_train_class, X_test_class, y_train_class, y_test_class = train_test_split(X_classification, y_classification, test_size=0.2, random_state=42)

# Split data into train and test sets for regression (yield prediction)
X_train_reg, X_test_reg, y_train_reg, y_test_reg = train_test_split(X_regression, y_regression, test_size=0.2, random_state=42)

# Train Naive Bayes Classifier for crop prediction
model_classification = MultinomialNB()
model_classification.fit(X_train_class, y_train_class)

# Train Naive Bayes Regressor for yield prediction
model_regression = GaussianNB()
model_regression.fit(X_train_reg, y_train_reg)

# Function to predict crop based on user input
def predict_crop(input_features):
    input_df = pd.DataFrame([input_features], columns=classification_features)
    predicted_crop = model_classification.predict(input_df)[0]
    return predicted_crop

    # Function to predict yield based on user input
def predict_yield(input_features):
    input_df= pd.DataFrame([input_features], columns=regression_features)
    predicted_yield = model_regression.predict(input_df)[0]
    return predicted_yield
    # Function to calculate accuracy, precision, and F1-score for crop prediction
def evaluate_classification_model(X_test, y_test):
    y_pred = model_classification.predict(X_test)
    accuracy = accuracy_score(y_test, y_pred)
    precision = precision_score(y_test, y_pred, average='weighted')
    f1 = f1_score(y_test, y_pred, average='weighted')
    return accuracy, precision, f1
    # Evaluate crop prediction model
accuracy_class, precision_class, f1_class = evaluate_classification_model(X_test_class, y_test_class)
print(f"Crop Prediction Metrics:")
print(f"Accuracy for naive bayes: {accuracy_class:.4f}")
print(f"Precision: {precision_class:.4f}")
print(f"F1-score: {f1_class:.4f}")



# Interactive user input for prediction
print("Enter the following values for prediction:")
user_input = {}
for feature in classification_features:
    value = float(input(f"{feature.capitalize()}: "))
    user_input[feature] = value

area = float(input("Area (hectares): "))
user_input['Area'] = area

# Predict crop using Naive Bayes
predicted_crop_nb = predict_crop(user_input)
print(f"Predicted Crop using Naive Bayes: {predicted_crop_nb.capitalize()}")

predicted_yield = predict_yield(user_input)
print(f"Predicted production (tons/hectare): {predicted_yield:.2f}")
